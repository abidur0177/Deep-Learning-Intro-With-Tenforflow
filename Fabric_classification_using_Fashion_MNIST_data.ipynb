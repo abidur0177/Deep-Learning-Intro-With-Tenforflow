{
  "nbformat": 4,
  "nbformat_minor": 0,
  "metadata": {
    "colab": {
      "provenance": [],
      "authorship_tag": "ABX9TyPlZsBVL1QnZAN8hlMPv5qE"
    },
    "kernelspec": {
      "name": "python3",
      "display_name": "Python 3"
    },
    "language_info": {
      "name": "python"
    }
  },
  "cells": [
    {
      "cell_type": "markdown",
      "source": [
        "# In this project I will load the fahion_Mnist data to train the neural network to predict the label (numerical label) of the given image (e.g. shirt, shoe, trousers etc)."
      ],
      "metadata": {
        "id": "LMnLLPGj48SM"
      }
    },
    {
      "cell_type": "markdown",
      "source": [
        "### Import the libraries"
      ],
      "metadata": {
        "id": "cLz4iOfz5T-3"
      }
    },
    {
      "cell_type": "code",
      "execution_count": 64,
      "metadata": {
        "id": "fuMTer_h1qEw"
      },
      "outputs": [],
      "source": [
        "import numpy as np\n",
        "import tensorflow as tf\n",
        "from tensorflow import keras\n",
        "import matplotlib.pyplot as plt"
      ]
    },
    {
      "cell_type": "markdown",
      "source": [
        "### Load the fashion_mnist dataset and get the array of train and test images with associated labels."
      ],
      "metadata": {
        "id": "PW6DdV716V2a"
      }
    },
    {
      "cell_type": "code",
      "source": [
        "f_mnist = keras.datasets.fashion_mnist\n",
        "(train_image, train_label), (test_image, test_label) = f_mnist.load_data()"
      ],
      "metadata": {
        "id": "f6AhYz475hGJ"
      },
      "execution_count": 65,
      "outputs": []
    },
    {
      "cell_type": "markdown",
      "source": [
        "### Print and see one of the images"
      ],
      "metadata": {
        "id": "v3W4ljHP-8PP"
      }
    },
    {
      "cell_type": "code",
      "source": [
        "index = 16 #index value of any of the training images\n",
        "np.set_printoptions(linewidth=320)\n",
        "\n",
        "print(f'Label: {train_label[index]}')\n",
        "print(f'Numerical Image: {train_image[index]}')\n",
        "\n",
        "plt.imshow(train_image[index], cmap='Greys')"
      ],
      "metadata": {
        "colab": {
          "base_uri": "https://localhost:8080/",
          "height": 966
        },
        "id": "mY-4z1oX_BKO",
        "outputId": "642ba74b-6964-450b-fc40-927f974173c1"
      },
      "execution_count": 66,
      "outputs": [
        {
          "output_type": "stream",
          "name": "stdout",
          "text": [
            "Label: 1\n",
            "Numerical Image: [[  0   0   0   0   0   0   0   0   0  53 146 127 115 111 130 129 100 147 169 190   0   0   0   0   0   0   0   0]\n",
            " [  0   0   0   0   0   0   0   0   0 117 190 188 221 234 254 236 221 205 186 222   0   0   0   0   0   0   0   0]\n",
            " [  0   0   0   0   0   0   0   0   0 127 156 175 193 195 195 202 203 187 168 228  32   0   0   0   0   0   0   0]\n",
            " [  0   0   0   0   0   0   0   0   0 165 186 198 209 219 198 205 211 201 189 233  94   0   0   0   0   0   0   0]\n",
            " [  0   0   0   0   0   0   0   0   0 185 199 210 225 207 201 207 221 210 208 236 111   0   0   0   0   0   0   0]\n",
            " [  0   0   0   0   0   0   0   0   0 200 175 172 215 224 216 216 223 210 198 237 152   0   0   0   0   0   0   0]\n",
            " [  0   0   0   0   0   0   0   0   7 213 156 151 171 187 215 227 212 200 178 215 177   0   0   0   0   0   0   0]\n",
            " [  0   0   0   0   0   0   0   0  25 201 136 156 178 198 213 235 168 166 163 207 178   0   0   0   0   0   0   0]\n",
            " [  0   0   0   0   0   0   0   0  42 195 134 162 171 201   1 229 198 166 154 193 173   0   0   0   0   0   0   0]\n",
            " [  0   0   0   0   0   0   0   0  50 184 134 167 184 181   0 213 190 197 179 189 179   0   0   0   0   0   0   0]\n",
            " [  0   0   0   0   0   0   0   0  49 175 134 169 169 211   0 196 178 153 183 196 176   0   0   0   0   0   0   0]\n",
            " [  0   0   0   0   0   0   0   0  50 173 134 167 174 223   0 161 208 140 172 198 173   0   0   0   0   0   0   0]\n",
            " [  0   0   0   0   0   0   0   0  49 169 125 158 187 213   0 124 219 132 149 198 176   0   0   0   0   0   0   0]\n",
            " [  0   0   0   0   0   0   0   0  49 168 128 150 192 197   0  82 219 152 153 177 175   0   0   0   0   0   0   0]\n",
            " [  0   0   0   0   0   0   0   0  50 174 136 144 190 185   0  29 221 155 153 184 174   0   0   0   0   0   0   0]\n",
            " [  0   0   0   0   0   0   0   0  53 175 140 161 191 143   0  13 221 154 156 184 173   0   0   0   0   0   0   0]\n",
            " [  0   0   0   0   0   0   0   0  58 184 122 166 198 115   0   0 217 158 160 180 167   0   0   0   0   0   0   0]\n",
            " [  0   0   0   0   0   0   0   0  58 204 111 172 203  79   0   0 204 164 155 188 169   0   0   0   0   0   0   0]\n",
            " [  0   0   0   0   0   0   0   0  55 214 138 177 209  41   0   0 186 180 152 187 168   0   0   0   0   0   0   0]\n",
            " [  0   0   0   0   0   0   0   0  55 214 149 177 210  23   0   0 158 199 173 192 163   0   0   0   0   0   0   0]\n",
            " [  0   0   0   0   0   0   0   0  55 216 159 187 204   6   0   0 136 198 189 208 165   0   0   0   0   0   0   0]\n",
            " [  0   0   0   0   0   0   0   0  55 212 161 197 191   0   0   0 118 192 185 214 161   0   0   0   0   0   0   0]\n",
            " [  0   0   0   0   0   0   0   0  63 201 162 207 171   0   0   0  86 197 184 214 156   0   0   0   0   0   0   0]\n",
            " [  0   0   0   0   0   0   0   0  68 197 168 213 155   0   0   0  64 196 183 219 154   0   0   0   0   0   0   0]\n",
            " [  0   0   0   0   0   0   0   0  73 193 168 215 146   0   1   0  56 190 180 205 146   0   0   0   0   0   0   0]\n",
            " [  0   0   0   0   0   0   0   0  73 176 168 204 137   0   3   0  37 186 179 204 138   0   0   0   0   0   0   0]\n",
            " [  0   0   0   0   0   0   0   0  94 197 178 212 129   0   5   0  32 193 185 210 150   0   0   0   0   0   0   0]\n",
            " [  0   0   0   0   0   0   0   0  49 122 126 160  65   0   3   0   8 156 173 188 107   0   0   0   0   0   0   0]]\n"
          ]
        },
        {
          "output_type": "execute_result",
          "data": {
            "text/plain": [
              "<matplotlib.image.AxesImage at 0x781ebaad5d50>"
            ]
          },
          "metadata": {},
          "execution_count": 66
        },
        {
          "output_type": "display_data",
          "data": {
            "text/plain": [
              "<Figure size 640x480 with 1 Axes>"
            ],
            "image/png": "[encoded data removed]"
          },
          "metadata": {}
        }
      ]
    },
    {
      "cell_type": "markdown",
      "source": [
        "### Normalize the pixel values"
      ],
      "metadata": {
        "id": "Kk8kjtRHAuy7"
      }
    },
    {
      "cell_type": "code",
      "source": [
        "train_image = train_image/255.0\n",
        "test_image = test_image/255.0"
      ],
      "metadata": {
        "id": "o-ZuTB_wAyUL"
      },
      "execution_count": 67,
      "outputs": []
    },
    {
      "cell_type": "markdown",
      "source": [
        "### Create a callback class"
      ],
      "metadata": {
        "id": "mUzYTPb_Ip9v"
      }
    },
    {
      "cell_type": "code",
      "source": [
        "class myCallback(tf.keras.callbacks.Callback):\n",
        "  def on_epoch_end(self, epoch, logs={}):\n",
        "    # Check the loss\n",
        "    if(logs.get('loss') < 0.4):\n",
        "\n",
        "      # Stop if threshold is met\n",
        "      print(\"\\nLoss is lower than 0.4 so cancelling training!\")\n",
        "      self.model.stop_training = True\n",
        "\n",
        "# Instantiate class\n",
        "callbacks = myCallback()"
      ],
      "metadata": {
        "id": "ARWbTqYEItwK"
      },
      "execution_count": 72,
      "outputs": []
    },
    {
      "cell_type": "markdown",
      "source": [
        "### Create the model and compile with optimizer and loss function"
      ],
      "metadata": {
        "id": "d7c1IUBY7yAA"
      }
    },
    {
      "cell_type": "code",
      "source": [
        "model = tf.keras.Sequential([\n",
        "    keras.layers.Flatten(input_shape=(28,28)),\n",
        "    keras.layers.Dense(128, activation=tf.nn.relu),\n",
        "    keras.layers.Dense(64, activation=tf.nn.relu),\n",
        "    keras.layers.Dense(10, activation=tf.nn.softmax)\n",
        "])\n",
        "\n",
        "model.compile(optimizer=tf.optimizers.Adam(), loss='sparse_categorical_crossentropy', metrics=['accuracy'])"
      ],
      "metadata": {
        "id": "WkYaYfYf66-6"
      },
      "execution_count": 73,
      "outputs": []
    },
    {
      "cell_type": "markdown",
      "source": [
        "### Fit the training data to the neural network"
      ],
      "metadata": {
        "id": "8CDwyFH3CBSb"
      }
    },
    {
      "cell_type": "code",
      "source": [
        "model.fit(train_image, train_label, epochs=5, callbacks=[callbacks])"
      ],
      "metadata": {
        "colab": {
          "base_uri": "https://localhost:8080/"
        },
        "id": "YAkR-ZH66_-m",
        "outputId": "0ccd9599-e47c-4168-9119-25b540926458"
      },
      "execution_count": 74,
      "outputs": [
        {
          "output_type": "stream",
          "name": "stdout",
          "text": [
            "Epoch 1/5\n",
            "1875/1875 [==============================] - 8s 4ms/step - loss: 0.4914 - accuracy: 0.8249\n",
            "Epoch 2/5\n",
            "1873/1875 [============================>.] - ETA: 0s - loss: 0.3669 - accuracy: 0.8662\n",
            "Loss is lower than 0.4 so cancelling training!\n",
            "1875/1875 [==============================] - 6s 3ms/step - loss: 0.3669 - accuracy: 0.8662\n"
          ]
        },
        {
          "output_type": "execute_result",
          "data": {
            "text/plain": [
              "<keras.src.callbacks.History at 0x781e9dffb550>"
            ]
          },
          "metadata": {},
          "execution_count": 74
        }
      ]
    },
    {
      "cell_type": "markdown",
      "source": [
        "### Evaluate the model using the test images"
      ],
      "metadata": {
        "id": "Vt9pkSWpDHDA"
      }
    },
    {
      "cell_type": "code",
      "source": [
        "model.evaluate(test_image, test_label)"
      ],
      "metadata": {
        "colab": {
          "base_uri": "https://localhost:8080/"
        },
        "id": "882fKiaUCM2E",
        "outputId": "937c4fe9-9f6f-4729-c455-7ceaa4fd68e6"
      },
      "execution_count": 49,
      "outputs": [
        {
          "output_type": "stream",
          "name": "stdout",
          "text": [
            "313/313 [==============================] - 1s 2ms/step - loss: 0.3563 - accuracy: 0.8713\n"
          ]
        },
        {
          "output_type": "execute_result",
          "data": {
            "text/plain": [
              "[0.35632753372192383, 0.8712999820709229]"
            ]
          },
          "metadata": {},
          "execution_count": 49
        }
      ]
    },
    {
      "cell_type": "markdown",
      "source": [
        "### Predict the and show the probability of any of the test images"
      ],
      "metadata": {
        "id": "uyh-DcNdGws0"
      }
    },
    {
      "cell_type": "code",
      "source": [
        "import random\n",
        "\n",
        "pred = model.predict(test_image)\n",
        "\n",
        "index = random.randint(0,9999)\n",
        "\n",
        "print(pred[index])"
      ],
      "metadata": {
        "colab": {
          "base_uri": "https://localhost:8080/"
        },
        "id": "XxuXpttHDODV",
        "outputId": "ec9fcbd8-a4fe-4dcc-8490-127761280362"
      },
      "execution_count": 59,
      "outputs": [
        {
          "output_type": "stream",
          "name": "stdout",
          "text": [
            "313/313 [==============================] - 1s 2ms/step\n",
            "[2.6799139e-06 5.0758531e-10 1.7346832e-07 1.6882440e-07 1.6699826e-07 1.5903166e-06 5.1449415e-06 1.7682271e-07 9.9998981e-01 1.0367768e-08]\n"
          ]
        }
      ]
    },
    {
      "cell_type": "markdown",
      "source": [
        "### Compare the predicted value with the actual value"
      ],
      "metadata": {
        "id": "dIw8Ev79F9hj"
      }
    },
    {
      "cell_type": "code",
      "source": [
        "print(f'Predicted Class: {np.argmax(pred[index])}', f'Actual Class: {test_label[index]}')"
      ],
      "metadata": {
        "colab": {
          "base_uri": "https://localhost:8080/"
        },
        "id": "9O2tYwzYFPZ3",
        "outputId": "460e9a1f-570d-49a3-c7fa-1a5f85dbc1d5"
      },
      "execution_count": 60,
      "outputs": [
        {
          "output_type": "stream",
          "name": "stdout",
          "text": [
            "Predicted Class: 8 Actual Class: 8\n"
          ]
        }
      ]
    }
  ]
}